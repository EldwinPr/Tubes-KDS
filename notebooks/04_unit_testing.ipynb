{
 "cells": [
  {
   "cell_type": "markdown",
   "id": "e581f79f",
   "metadata": {},
   "source": [
    "SETUP & IMPORTS"
   ]
  },
  {
   "cell_type": "code",
   "execution_count": 1,
   "id": "d3ff0972",
   "metadata": {},
   "outputs": [
    {
     "name": "stdout",
     "output_type": "stream",
     "text": [
      "UNIT TESTING FOR DATA PROCESSING\n",
      "========================================\n"
     ]
    }
   ],
   "source": [
    "import sys\n",
    "import os\n",
    "sys.path.append('../src')\n",
    "\n",
    "import pandas as pd\n",
    "import numpy as np\n",
    "from collections import Counter\n",
    "from utils import setup_logging, clean_sequence\n",
    "from config import Config\n",
    "\n",
    "print(\"UNIT TESTING FOR DATA PROCESSING\")\n",
    "print(\"=\"*40)"
   ]
  },
  {
   "cell_type": "markdown",
   "id": "b5bc1696",
   "metadata": {},
   "source": [
    "TEST DATA"
   ]
  },
  {
   "cell_type": "code",
   "execution_count": 2,
   "id": "4221d0b5",
   "metadata": {},
   "outputs": [
    {
     "name": "stdout",
     "output_type": "stream",
     "text": [
      "Created 5 test sequences\n"
     ]
    }
   ],
   "source": [
    "def create_test_data():\n",
    "    \"\"\"Create simple test data\"\"\"\n",
    "    \n",
    "    base_seq = \"ATGCCCGGATCCAAATTTGGGCCCAAATTTGGGCCCAAATTTGGGCCCAAATTTGGGCCCAAATTTGGGCCCAAATTTGGGCCCAAATTTGGGCCCAAATTTGGGCCCAAATTTGGGCCCAAATTTGGGCCCAAATTTGGGCCCAAATTTGGGCCCAAATTTGGGCCCAAATTTGGGCCCAAATTTGGGCCCAAATTTGGGCCCAAATTTGGGCCCAAATTTGGGCCCAAATTTGGGCCCAAATTTGGGCCCAAATTTGGGCCCAAATTTGGGCCCAAATTTGGGCCCAAATTTGGGCCCAAATTTGGGCCCAAATTTGGGCCCAAATTTGGGCCCAAATTTGGGCCCAAATTTGGGCCCAAATTTGGGCCCAAATTTGGGCCCAAATTTGGGCCCAAATTTGGGCCCAAATTTGGGCCCAAATTTGGGCCCAAATTTGGGCCCAAATTTGGGCCCAAATTTGGGCCCAAATTTGGGCCCAAATTTGGGCCCAAATTTGGGCCCAAATTTGGGCCC\"\n",
    "    \n",
    "    test_data = [\n",
    "        {\"accession_id\": \"TEST001\", \"sequence\": base_seq, \"sequence_length\": len(base_seq)},\n",
    "        {\"accession_id\": \"TEST002\", \"sequence\": base_seq.replace(\"ATG\", \"ACG\"), \"sequence_length\": len(base_seq)},\n",
    "        {\"accession_id\": \"TEST003\", \"sequence\": base_seq, \"sequence_length\": len(base_seq)},  # Duplicate\n",
    "        {\"accession_id\": \"TEST004\", \"sequence\": \"SHORT\", \"sequence_length\": 5},  # Too short\n",
    "        {\"accession_id\": \"TEST005\", \"sequence\": \"N\" * len(base_seq), \"sequence_length\": len(base_seq)},  # Too many Ns\n",
    "    ]\n",
    "    \n",
    "    return pd.DataFrame(test_data)\n",
    "\n",
    "test_df = create_test_data()\n",
    "print(f\"Created {len(test_df)} test sequences\")"
   ]
  },
  {
   "cell_type": "markdown",
   "id": "ad17fe8c",
   "metadata": {},
   "source": [
    "COPY FUNCTIONS FROM NOTEBOOK 03"
   ]
  },
  {
   "cell_type": "code",
   "execution_count": 3,
   "id": "b14f0f63",
   "metadata": {},
   "outputs": [],
   "source": [
    "def calculate_gc_content(sequence):\n",
    "    \"\"\"Calculate GC content\"\"\"\n",
    "    if not sequence:\n",
    "        return 0.0\n",
    "    seq_upper = sequence.upper()\n",
    "    gc_count = seq_upper.count('G') + seq_upper.count('C')\n",
    "    return (gc_count / len(sequence)) * 100\n",
    "\n",
    "def simple_qc(df):\n",
    "    \"\"\"Simple quality control\"\"\"\n",
    "    if df.empty:\n",
    "        return df, {\"initial\": 0, \"final\": 0}\n",
    "    \n",
    "    initial = len(df)\n",
    "    \n",
    "    # Remove duplicates\n",
    "    df_clean = df.drop_duplicates(subset=['sequence']).copy()\n",
    "    \n",
    "    # Length filter\n",
    "    df_clean = df_clean[\n",
    "        (df_clean['sequence_length'] >= Config.MIN_SEQUENCE_LENGTH) &\n",
    "        (df_clean['sequence_length'] <= Config.MAX_SEQUENCE_LENGTH)\n",
    "    ].copy()\n",
    "    \n",
    "    # Remove high ambiguous content\n",
    "    def ambiguous_percentage(seq):\n",
    "        return (sum(1 for c in seq if c in 'NRYSWKMBDHV') / len(seq)) * 100\n",
    "    \n",
    "    df_clean['amb_pct'] = df_clean['sequence'].apply(ambiguous_percentage)\n",
    "    df_clean = df_clean[df_clean['amb_pct'] <= 10].copy()\n",
    "    \n",
    "    stats = {\"initial\": initial, \"final\": len(df_clean)}\n",
    "    return df_clean, stats\n",
    "\n",
    "def simple_haplotypes(df):\n",
    "    \"\"\"Simple haplotype identification\"\"\"\n",
    "    if df.empty:\n",
    "        return df, []\n",
    "    \n",
    "    sequences = df['sequence'].tolist()\n",
    "    seq_counts = Counter(sequences)\n",
    "    \n",
    "    haplotypes = []\n",
    "    seq_to_hap = {}\n",
    "    \n",
    "    for i, (seq, count) in enumerate(seq_counts.most_common(), 1):\n",
    "        hap_id = f\"Hap_{i:03d}\"\n",
    "        seq_to_hap[seq] = hap_id\n",
    "        haplotypes.append({\n",
    "            'haplotype_id': hap_id,\n",
    "            'count': count,\n",
    "            'frequency': count / len(sequences)\n",
    "        })\n",
    "    \n",
    "    df_hap = df.copy()\n",
    "    df_hap['haplotype_id'] = df_hap['sequence'].map(seq_to_hap)\n",
    "    \n",
    "    return df_hap, haplotypes"
   ]
  },
  {
   "cell_type": "markdown",
   "id": "d49ea438",
   "metadata": {},
   "source": [
    "SIMPLE TESTS"
   ]
  },
  {
   "cell_type": "code",
   "execution_count": 4,
   "id": "b4c2dfb6",
   "metadata": {},
   "outputs": [],
   "source": [
    "def test_gc_content():\n",
    "    \"\"\"Test GC content calculation\"\"\"\n",
    "    print(\"\\nTesting GC content...\")\n",
    "    \n",
    "    test_cases = [\n",
    "        (\"ATGC\", 50.0),\n",
    "        (\"AAAA\", 0.0),\n",
    "        (\"GGGG\", 100.0)\n",
    "    ]\n",
    "    \n",
    "    for seq, expected in test_cases:\n",
    "        result = calculate_gc_content(seq)\n",
    "        assert abs(result - expected) < 0.1, f\"GC test failed for {seq}\"\n",
    "    \n",
    "    print(\"✓ GC content tests passed\")\n",
    "\n",
    "def test_quality_control():\n",
    "    \"\"\"Test quality control\"\"\"\n",
    "    print(\"\\nTesting quality control...\")\n",
    "    \n",
    "    df_clean, stats = simple_qc(test_df)\n",
    "    \n",
    "    assert stats['initial'] == 5, \"Initial count wrong\"\n",
    "    assert stats['final'] <= stats['initial'], \"Final count too high\"\n",
    "    assert stats['final'] >= 0, \"Final count negative\"\n",
    "    \n",
    "    if not df_clean.empty:\n",
    "        # Check length requirements\n",
    "        assert df_clean['sequence_length'].min() >= Config.MIN_SEQUENCE_LENGTH\n",
    "        assert df_clean['sequence_length'].max() <= Config.MAX_SEQUENCE_LENGTH\n",
    "    \n",
    "    print(f\"✓ QC passed: {stats['final']}/{stats['initial']} sequences retained\")\n",
    "\n",
    "def test_haplotype_identification():\n",
    "    \"\"\"Test haplotype identification\"\"\"\n",
    "    print(\"\\nTesting haplotype identification...\")\n",
    "    \n",
    "    df_clean, _ = simple_qc(test_df)\n",
    "    \n",
    "    if not df_clean.empty:\n",
    "        df_hap, haplotypes = simple_haplotypes(df_clean)\n",
    "        \n",
    "        assert len(haplotypes) > 0, \"No haplotypes found\"\n",
    "        assert len(haplotypes) <= len(df_clean), \"Too many haplotypes\"\n",
    "        assert not df_hap['haplotype_id'].isna().any(), \"Missing haplotype IDs\"\n",
    "        \n",
    "        # Check frequencies sum to 1\n",
    "        total_freq = sum(h['frequency'] for h in haplotypes)\n",
    "        assert abs(total_freq - 1.0) < 0.01, \"Frequencies don't sum to 1\"\n",
    "        \n",
    "        print(f\"✓ Haplotypes passed: {len(haplotypes)} haplotypes identified\")\n",
    "    else:\n",
    "        print(\"! No sequences for haplotype test\")\n",
    "\n",
    "def test_empty_data():\n",
    "    \"\"\"Test empty dataframe handling\"\"\"\n",
    "    print(\"\\nTesting empty data handling...\")\n",
    "    \n",
    "    empty_df = pd.DataFrame()\n",
    "    \n",
    "    # Test QC\n",
    "    df_clean, stats = simple_qc(empty_df)\n",
    "    assert df_clean.empty, \"Empty QC failed\"\n",
    "    assert stats['initial'] == 0, \"Empty initial count wrong\"\n",
    "    \n",
    "    # Test haplotypes\n",
    "    df_hap, haplotypes = simple_haplotypes(empty_df)\n",
    "    assert df_hap.empty, \"Empty haplotype failed\"\n",
    "    assert len(haplotypes) == 0, \"Empty haplotype list failed\"\n",
    "    \n",
    "    print(\"✓ Empty data handling passed\")"
   ]
  },
  {
   "cell_type": "markdown",
   "id": "819ba54e",
   "metadata": {},
   "source": [
    "RUN ALL TESTS"
   ]
  },
  {
   "cell_type": "code",
   "execution_count": 8,
   "id": "d3472c7b",
   "metadata": {},
   "outputs": [],
   "source": [
    "def run_all_tests():\n",
    "    \"\"\"Run all tests\"\"\"\n",
    "    print(f\"\\n{'='*40}\")\n",
    "    print(\"RUNNING ALL TESTS\")\n",
    "    print(f\"{'='*40}\")\n",
    "    \n",
    "    tests = [\n",
    "        test_gc_content,\n",
    "        test_quality_control,\n",
    "        test_haplotype_identification,\n",
    "        test_empty_data\n",
    "    ]\n",
    "    \n",
    "    passed = 0\n",
    "    failed = 0\n",
    "    \n",
    "    for test in tests:\n",
    "        try:\n",
    "            test()\n",
    "            passed += 1\n",
    "        except Exception as e:\n",
    "            print(f\"❌ {test.__name__} FAILED: {e}\")\n",
    "            failed += 1\n",
    "    \n",
    "    print(f\"\\n{'='*40}\")\n",
    "    print(\"TEST RESULTS\")\n",
    "    print(f\"{'='*40}\")\n",
    "    print(f\"Passed: {passed}\")\n",
    "    print(f\"Failed: {failed}\")\n",
    "    \n",
    "    if failed == 0:\n",
    "        print(\"ALL TESTS PASSED!\")\n",
    "    else:\n",
    "        print(\"SOME TESTS FAILED\")\n",
    "    \n",
    "    return failed == 0"
   ]
  },
  {
   "cell_type": "markdown",
   "id": "f56ad6e2",
   "metadata": {},
   "source": [
    "INTEGRATION TEST"
   ]
  },
  {
   "cell_type": "code",
   "execution_count": 6,
   "id": "f5aa4cf9",
   "metadata": {},
   "outputs": [],
   "source": [
    "def integration_test():\n",
    "    \"\"\"Run full pipeline test\"\"\"\n",
    "    print(f\"\\n{'='*40}\")\n",
    "    print(\"INTEGRATION TEST\")\n",
    "    print(f\"{'='*40}\")\n",
    "    \n",
    "    # Run full pipeline\n",
    "    df_clean, qc_stats = simple_qc(test_df)\n",
    "    \n",
    "    if not df_clean.empty:\n",
    "        df_final, haplotypes = simple_haplotypes(df_clean)\n",
    "        \n",
    "        print(f\"✓ Pipeline complete:\")\n",
    "        print(f\"  Input: {qc_stats['initial']} sequences\")\n",
    "        print(f\"  QC passed: {qc_stats['final']} sequences\")\n",
    "        print(f\"  Haplotypes: {len(haplotypes)}\")\n",
    "        \n",
    "        return True\n",
    "    else:\n",
    "        print(\"Integration test failed: No sequences passed QC\")\n",
    "        return False"
   ]
  },
  {
   "cell_type": "markdown",
   "id": "25112787",
   "metadata": {},
   "source": [
    "RUN TESTS"
   ]
  },
  {
   "cell_type": "code",
   "execution_count": 7,
   "id": "bb317ed8",
   "metadata": {},
   "outputs": [
    {
     "name": "stdout",
     "output_type": "stream",
     "text": [
      "\n",
      "========================================\n",
      "RUNNING ALL TESTS\n",
      "========================================\n",
      "\n",
      "Testing GC content...\n",
      "✓ GC content tests passed\n",
      "\n",
      "Testing quality control...\n",
      "✓ QC passed: 2/5 sequences retained\n",
      "\n",
      "Testing haplotype identification...\n",
      "✓ Haplotypes passed: 2 haplotypes identified\n",
      "\n",
      "Testing empty data handling...\n",
      "✓ Empty data handling passed\n",
      "\n",
      "========================================\n",
      "TEST RESULTS\n",
      "========================================\n",
      "Passed: 4\n",
      "Failed: 0\n",
      "ALL TESTS PASSED!\n",
      "\n",
      "========================================\n",
      "INTEGRATION TEST\n",
      "========================================\n",
      "✓ Pipeline complete:\n",
      "  Input: 5 sequences\n",
      "  QC passed: 2 sequences\n",
      "  Haplotypes: 2\n",
      "\n",
      "========================================\n",
      "FINAL SUMMARY\n",
      "========================================\n",
      "✅ ALL TESTS PASSED - Pipeline ready for use!\n",
      "Unit testing complete!\n"
     ]
    }
   ],
   "source": [
    "# Run unit tests\n",
    "success = run_all_tests()\n",
    "\n",
    "# Run integration test\n",
    "integration_success = integration_test()\n",
    "\n",
    "# Final summary\n",
    "print(f\"\\n{'='*40}\")\n",
    "print(\"FINAL SUMMARY\")\n",
    "print(f\"{'='*40}\")\n",
    "\n",
    "if success and integration_success:\n",
    "    print(\"✅ ALL TESTS PASSED - Pipeline ready for use!\")\n",
    "else:\n",
    "    print(\"❌ SOME TESTS FAILED - Fix issues before using pipeline\")\n",
    "\n",
    "print(\"Unit testing complete!\")"
   ]
  }
 ],
 "metadata": {
  "kernelspec": {
   "display_name": "Python 3",
   "language": "python",
   "name": "python3"
  },
  "language_info": {
   "codemirror_mode": {
    "name": "ipython",
    "version": 3
   },
   "file_extension": ".py",
   "mimetype": "text/x-python",
   "name": "python",
   "nbconvert_exporter": "python",
   "pygments_lexer": "ipython3",
   "version": "3.13.3"
  }
 },
 "nbformat": 4,
 "nbformat_minor": 5
}
